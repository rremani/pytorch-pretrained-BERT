{
 "cells": [
  {
   "cell_type": "code",
   "execution_count": 1,
   "metadata": {},
   "outputs": [],
   "source": [
    "import pandas as pd\n"
   ]
  },
  {
   "cell_type": "code",
   "execution_count": 2,
   "metadata": {},
   "outputs": [],
   "source": [
    "df = pd.read_csv('final_csvs/final_labelled_word_data1.csv')"
   ]
  },
  {
   "cell_type": "code",
   "execution_count": 3,
   "metadata": {},
   "outputs": [
    {
     "data": {
      "text/plain": [
       "0    70695\n",
       "3     1312\n",
       "2      367\n",
       "4      363\n",
       "1      360\n",
       "Name: labels, dtype: int64"
      ]
     },
     "execution_count": 3,
     "metadata": {},
     "output_type": "execute_result"
    }
   ],
   "source": [
    "df.labels.value_counts()"
   ]
  },
  {
   "cell_type": "code",
   "execution_count": 57,
   "metadata": {},
   "outputs": [],
   "source": [
    "h=df[df['type']==1].index"
   ]
  },
  {
   "cell_type": "code",
   "execution_count": 58,
   "metadata": {},
   "outputs": [],
   "source": [
    "df.loc[h,'labels']=0"
   ]
  },
  {
   "cell_type": "code",
   "execution_count": 59,
   "metadata": {},
   "outputs": [],
   "source": [
    "df.drop(columns=['xmin','ymin','xmax','ymax','type'],inplace=True)"
   ]
  },
  {
   "cell_type": "code",
   "execution_count": 60,
   "metadata": {},
   "outputs": [],
   "source": [
    "df.columns=['files','words','coords','labels']"
   ]
  },
  {
   "cell_type": "code",
   "execution_count": 61,
   "metadata": {},
   "outputs": [
    {
     "data": {
      "text/html": [
       "<div>\n",
       "<style scoped>\n",
       "    .dataframe tbody tr th:only-of-type {\n",
       "        vertical-align: middle;\n",
       "    }\n",
       "\n",
       "    .dataframe tbody tr th {\n",
       "        vertical-align: top;\n",
       "    }\n",
       "\n",
       "    .dataframe thead th {\n",
       "        text-align: right;\n",
       "    }\n",
       "</style>\n",
       "<table border=\"1\" class=\"dataframe\">\n",
       "  <thead>\n",
       "    <tr style=\"text-align: right;\">\n",
       "      <th></th>\n",
       "      <th>files</th>\n",
       "      <th>words</th>\n",
       "      <th>coords</th>\n",
       "      <th>labels</th>\n",
       "    </tr>\n",
       "  </thead>\n",
       "  <tbody>\n",
       "    <tr>\n",
       "      <th>0</th>\n",
       "      <td>rudramotors-sale-2-08.png</td>\n",
       "      <td>RUDRA</td>\n",
       "      <td>[404, 165, 563, 201]</td>\n",
       "      <td>3</td>\n",
       "    </tr>\n",
       "    <tr>\n",
       "      <th>1</th>\n",
       "      <td>rudramotors-sale-2-08.png</td>\n",
       "      <td>MOTORS</td>\n",
       "      <td>[578, 166, 777, 202]</td>\n",
       "      <td>3</td>\n",
       "    </tr>\n",
       "    <tr>\n",
       "      <th>2</th>\n",
       "      <td>rudramotors-sale-2-08.png</td>\n",
       "      <td>TVS</td>\n",
       "      <td>[1035, 204, 1100, 246]</td>\n",
       "      <td>0</td>\n",
       "    </tr>\n",
       "    <tr>\n",
       "      <th>3</th>\n",
       "      <td>rudramotors-sale-2-08.png</td>\n",
       "      <td>Authorised</td>\n",
       "      <td>[396, 220, 482, 238]</td>\n",
       "      <td>0</td>\n",
       "    </tr>\n",
       "    <tr>\n",
       "      <th>4</th>\n",
       "      <td>rudramotors-sale-2-08.png</td>\n",
       "      <td>ASC:TVS</td>\n",
       "      <td>[491, 219, 575, 238]</td>\n",
       "      <td>0</td>\n",
       "    </tr>\n",
       "  </tbody>\n",
       "</table>\n",
       "</div>"
      ],
      "text/plain": [
       "                       files       words                  coords  labels\n",
       "0  rudramotors-sale-2-08.png       RUDRA    [404, 165, 563, 201]       3\n",
       "1  rudramotors-sale-2-08.png      MOTORS    [578, 166, 777, 202]       3\n",
       "2  rudramotors-sale-2-08.png         TVS  [1035, 204, 1100, 246]       0\n",
       "3  rudramotors-sale-2-08.png  Authorised    [396, 220, 482, 238]       0\n",
       "4  rudramotors-sale-2-08.png     ASC:TVS    [491, 219, 575, 238]       0"
      ]
     },
     "execution_count": 61,
     "metadata": {},
     "output_type": "execute_result"
    }
   ],
   "source": [
    "df.head()"
   ]
  },
  {
   "cell_type": "code",
   "execution_count": 62,
   "metadata": {},
   "outputs": [
    {
     "data": {
      "text/plain": [
       "0    70695\n",
       "3     1312\n",
       "2      367\n",
       "4      363\n",
       "1      360\n",
       "Name: labels, dtype: int64"
      ]
     },
     "execution_count": 62,
     "metadata": {},
     "output_type": "execute_result"
    }
   ],
   "source": [
    "df.labels.value_counts()"
   ]
  },
  {
   "cell_type": "code",
   "execution_count": 63,
   "metadata": {},
   "outputs": [],
   "source": [
    "data = pd.DataFrame(data=[df['words'],df['coords'],df['files'],df['labels']]).T"
   ]
  },
  {
   "cell_type": "code",
   "execution_count": 49,
   "metadata": {},
   "outputs": [
    {
     "data": {
      "text/plain": [
       "0    70695\n",
       "3     1312\n",
       "2      367\n",
       "4      363\n",
       "1      360\n",
       "Name: labels, dtype: int64"
      ]
     },
     "execution_count": 49,
     "metadata": {},
     "output_type": "execute_result"
    }
   ],
   "source": [
    "data.labels.value_counts()"
   ]
  },
  {
   "cell_type": "code",
   "execution_count": 50,
   "metadata": {},
   "outputs": [
    {
     "data": {
      "text/html": [
       "<div>\n",
       "<style scoped>\n",
       "    .dataframe tbody tr th:only-of-type {\n",
       "        vertical-align: middle;\n",
       "    }\n",
       "\n",
       "    .dataframe tbody tr th {\n",
       "        vertical-align: top;\n",
       "    }\n",
       "\n",
       "    .dataframe thead th {\n",
       "        text-align: right;\n",
       "    }\n",
       "</style>\n",
       "<table border=\"1\" class=\"dataframe\">\n",
       "  <thead>\n",
       "    <tr style=\"text-align: right;\">\n",
       "      <th></th>\n",
       "      <th>words</th>\n",
       "      <th>coords</th>\n",
       "      <th>files</th>\n",
       "      <th>labels</th>\n",
       "    </tr>\n",
       "  </thead>\n",
       "  <tbody>\n",
       "    <tr>\n",
       "      <th>0</th>\n",
       "      <td>RUDRA</td>\n",
       "      <td>[404, 165, 563, 201]</td>\n",
       "      <td>rudramotors-sale-2-08.png</td>\n",
       "      <td>3</td>\n",
       "    </tr>\n",
       "    <tr>\n",
       "      <th>1</th>\n",
       "      <td>MOTORS</td>\n",
       "      <td>[578, 166, 777, 202]</td>\n",
       "      <td>rudramotors-sale-2-08.png</td>\n",
       "      <td>3</td>\n",
       "    </tr>\n",
       "    <tr>\n",
       "      <th>2</th>\n",
       "      <td>TVS</td>\n",
       "      <td>[1035, 204, 1100, 246]</td>\n",
       "      <td>rudramotors-sale-2-08.png</td>\n",
       "      <td>0</td>\n",
       "    </tr>\n",
       "    <tr>\n",
       "      <th>3</th>\n",
       "      <td>Authorised</td>\n",
       "      <td>[396, 220, 482, 238]</td>\n",
       "      <td>rudramotors-sale-2-08.png</td>\n",
       "      <td>0</td>\n",
       "    </tr>\n",
       "    <tr>\n",
       "      <th>4</th>\n",
       "      <td>ASC:TVS</td>\n",
       "      <td>[491, 219, 575, 238]</td>\n",
       "      <td>rudramotors-sale-2-08.png</td>\n",
       "      <td>0</td>\n",
       "    </tr>\n",
       "  </tbody>\n",
       "</table>\n",
       "</div>"
      ],
      "text/plain": [
       "        words                  coords                      files labels\n",
       "0       RUDRA    [404, 165, 563, 201]  rudramotors-sale-2-08.png      3\n",
       "1      MOTORS    [578, 166, 777, 202]  rudramotors-sale-2-08.png      3\n",
       "2         TVS  [1035, 204, 1100, 246]  rudramotors-sale-2-08.png      0\n",
       "3  Authorised    [396, 220, 482, 238]  rudramotors-sale-2-08.png      0\n",
       "4     ASC:TVS    [491, 219, 575, 238]  rudramotors-sale-2-08.png      0"
      ]
     },
     "execution_count": 50,
     "metadata": {},
     "output_type": "execute_result"
    }
   ],
   "source": [
    "data.head()"
   ]
  },
  {
   "cell_type": "code",
   "execution_count": 51,
   "metadata": {},
   "outputs": [
    {
     "name": "stdout",
     "output_type": "stream",
     "text": [
      "(73097, 4)\n",
      "0\n",
      "10\n",
      "20\n",
      "30\n",
      "40\n",
      "50\n",
      "60\n",
      "70\n",
      "80\n",
      "90\n",
      "100\n",
      "110\n",
      "120\n",
      "130\n",
      "140\n",
      "150\n",
      "160\n",
      "170\n",
      "180\n",
      "190\n",
      "200\n",
      "210\n",
      "220\n",
      "230\n",
      "240\n",
      "250\n",
      "260\n",
      "270\n",
      "280\n",
      "290\n",
      "300\n",
      "310\n",
      "320\n",
      "330\n",
      "340\n",
      "350\n",
      "360\n",
      "370\n",
      "380\n",
      "390\n",
      "400\n",
      "(73097, 4)\n"
     ]
    }
   ],
   "source": [
    "import ast\n",
    "import numpy as np\n",
    "data.coords = data.coords.apply(lambda x: ast.literal_eval(x))\n",
    "print(data.shape)\n",
    "files = np.unique(data.files)\n",
    "df=[]\n",
    "for j,i in enumerate(files):\n",
    "    new_df = data[data['files']==i]\n",
    "    \n",
    "    order=order_l2r_t2b(new_df)\n",
    "    if j%10==0:\n",
    "        print(j)\n",
    "    df.append(order)\n",
    "    \n",
    "final_df=pd.concat(df,axis=0)\n",
    "print(final_df.shape)\n"
   ]
  },
  {
   "cell_type": "code",
   "execution_count": 34,
   "metadata": {},
   "outputs": [],
   "source": [
    "def order_l2r_t2b(new_df):\n",
    "    '''\n",
    "    input column names and ordering: words, coords,files,labels\n",
    "    \n",
    "    '''\n",
    "    p=[]\n",
    "    for i in new_df.iterrows():\n",
    "\n",
    "        ymin = i[1][1][1]\n",
    "\n",
    "        k = []\n",
    "\n",
    "        for j in new_df.iterrows():\n",
    "            ymin1 = j[1][1][1]\n",
    "\n",
    "            if k == [] and (i[0] not in [y for x in p for y in x]):\n",
    "                k.append(i[0])\n",
    "            if abs(ymin-ymin1)<5 and j[0] not in [y for x in p for y in x]:\n",
    "                k.append(j[0])\n",
    "\n",
    "        if k not in [y for x in p for y in x] and k !=[]:\n",
    "            p.append(list(set(k)))\n",
    "\n",
    "    jk = []\n",
    "    for ji in p:\n",
    "\n",
    "        temp = new_df.loc[ji].sort_values('coords')\n",
    "        ymin = temp['coords']\n",
    "        jk.append((list(ymin)[0][1],temp))\n",
    "\n",
    "    temp2 = sorted(jk,key=lambda x:x[0])\n",
    "\n",
    "    temp3 = [x[1].reset_index(drop=True) for x in temp2]\n",
    "    \n",
    "    temp4 = pd.concat(temp3,axis=0).reset_index(drop=True)\n",
    "    \n",
    "    return temp4"
   ]
  },
  {
   "cell_type": "code",
   "execution_count": 64,
   "metadata": {},
   "outputs": [],
   "source": [
    "data.to_csv('words_values_data_raunaq.csv',index=False)"
   ]
  },
  {
   "cell_type": "code",
   "execution_count": null,
   "metadata": {},
   "outputs": [],
   "source": [
    "df"
   ]
  }
 ],
 "metadata": {
  "kernelspec": {
   "display_name": "Python 3",
   "language": "python",
   "name": "python3"
  },
  "language_info": {
   "codemirror_mode": {
    "name": "ipython",
    "version": 3
   },
   "file_extension": ".py",
   "mimetype": "text/x-python",
   "name": "python",
   "nbconvert_exporter": "python",
   "pygments_lexer": "ipython3",
   "version": "3.6.7"
  }
 },
 "nbformat": 4,
 "nbformat_minor": 2
}
